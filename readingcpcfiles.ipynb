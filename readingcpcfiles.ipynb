{
 "cells": [
  {
   "cell_type": "code",
   "execution_count": null,
   "id": "6f8a931c",
   "metadata": {},
   "outputs": [],
   "source": [
    "import pandas as pd\n",
    "import numpy as np\n",
    "from matplotlib import pyplot as plt\n",
    "import glob\n",
    "import os"
   ]
  },
  {
   "cell_type": "code",
   "execution_count": null,
   "id": "983c8431",
   "metadata": {},
   "outputs": [],
   "source": [
    "cpc_data = sorted(glob.glob(os.path.join('/Users/deepaksapkota/Desktop/PythonDMA/TPPfiles/LPM3_06_21_2022_240NMPSL', \"*.dat\")))\n"
   ]
  },
  {
   "cell_type": "code",
   "execution_count": 1,
   "id": "78a1c6c8",
   "metadata": {},
   "outputs": [
    {
     "data": {
      "text/plain": [
       "'/Users/deepaksapkota/Desktop/PythonDMA/TPPfiles/LPM3_06_21_2022_240NMPSL'"
      ]
     },
     "execution_count": 1,
     "metadata": {},
     "output_type": "execute_result"
    }
   ],
   "source": [
    "pwd\n"
   ]
  },
  {
   "cell_type": "code",
   "execution_count": null,
   "id": "f7bde1e0",
   "metadata": {},
   "outputs": [],
   "source": [
    "import numpy as np\n",
    "from pylab import cm\n",
    "font = {'family': 'serif',\n",
    "        'color':  'black',\n",
    "        'weight': 'normal',\n",
    "        'size': 16,\n",
    "        }"
   ]
  },
  {
   "cell_type": "code",
   "execution_count": null,
   "id": "3374a765",
   "metadata": {},
   "outputs": [],
   "source": [
    "num = 0\n",
    "for files in cpc_data:\n",
    "        SN, CV, Dmavolt, mob, mob_dia, numc, t = np.loadtxt(files, unpack=True, delimiter='\\t', skiprows=15)\n",
    "        fig = plt.figure()\n",
    "        ax1 = fig.add_axes([0, 0, 0.6, 0.6])\n",
    "        ax1.plot(Dmavolt, numc, ':*')\n",
    "        ax1.xaxis.set_tick_params(which = 'major', size = 5, width= 2, direction = 'in', top = 'off')\n",
    "        ax1.yaxis.set_tick_params(which = 'major', size = 5, width= 2, direction = 'in', top = 'off')\n",
    "        ax1.grid()\n",
    "        ax1.set_xlabel('DMA Voltage',fontsize= 14, fontdict = font ) \n",
    "        ax1.set_ylabel('Concentration [#/cc]',fontsize= 14, fontdict = font )\n",
    "            \n",
    "        ax2 = fig.add_axes([0, 0.8, 0.6, 0.6])\n",
    "        ax2.plot(mob_dia, numc, ':*')\n",
    "        ax2.xaxis.set_tick_params(which = 'major', size = 5, width= 2, direction = 'in', top = 'off')\n",
    "        ax2.yaxis.set_tick_params(which = 'major', size = 5, width= 2, direction = 'in', top = 'off')\n",
    "        ax2.grid()\n",
    "        ax2.set_xlabel('Diameter [nm] ',fontsize= 14, fontdict = font ) \n",
    "        ax2.set_ylabel('Concentration [#/cc]',fontsize= 14, fontdict = font )\n",
    "        plt.savefig(\"value{num}.png\".format(num=num), \n",
    "            dpi=1000, \n",
    "            bbox_inches='tight', \n",
    "            pad_inches =1, \n",
    "            transparent = True, \n",
    "            facecolor = 'w', \n",
    "            edgecolor = 'w',\n",
    "            orientation = 'landscape')\n",
    "    \n",
    "        \n",
    "        \n",
    "        num+=1\n",
    "\n",
    "            \n",
    "\n",
    "\n",
    "\n",
    "    \n"
   ]
  },
  {
   "cell_type": "code",
   "execution_count": null,
   "id": "c39884c6",
   "metadata": {},
   "outputs": [],
   "source": [
    "fig2\n",
    "\n"
   ]
  },
  {
   "cell_type": "code",
   "execution_count": null,
   "id": "fcb73638",
   "metadata": {},
   "outputs": [],
   "source": [
    "import matplotlib as mpl\n",
    "import matplotlib.pyplot as plt\n",
    "import numpy as np\n",
    "from pylab import cm\n",
    "\n",
    "\n",
    "sample = 1\n",
    "for files in cpc_data:\n",
    "        SN, CV, Dmavolt, mob, mob_dia, numc, t = np.loadtxt(files, unpack=True, delimiter='\\t', skiprows=15)\n",
    "        plt.plot(mob_dia, numc, ':*', label = 'Test ' + str(sample))\n",
    "        plt.grid()\n",
    "     \n",
    "        \n",
    "        sample += 1\n",
    "        \n",
    "\n",
    "plt.legend(fontsize=8)\n",
    "plt.xlim([0, 450])\n",
    "plt.xlabel('Mobility Diameter [nm]' , fontsize= 14, fontdict = font)\n",
    "plt.ylabel('Concentration [#/cc]' , fontsize= 14, fontdict = font)\n",
    "\n",
    "plt.savefig(\"alldata.png\", \n",
    "            dpi=1000, \n",
    "            bbox_inches='tight', \n",
    "            pad_inches =1, \n",
    "            transparent = True, \n",
    "            facecolor = 'w', \n",
    "            edgecolor = 'w',\n",
    "            orientation = 'landscape')\n",
    "    "
   ]
  },
  {
   "cell_type": "code",
   "execution_count": null,
   "id": "55c77ac7",
   "metadata": {},
   "outputs": [],
   "source": []
  }
 ],
 "metadata": {
  "kernelspec": {
   "display_name": "Python 3 (ipykernel)",
   "language": "python",
   "name": "python3"
  },
  "language_info": {
   "codemirror_mode": {
    "name": "ipython",
    "version": 3
   },
   "file_extension": ".py",
   "mimetype": "text/x-python",
   "name": "python",
   "nbconvert_exporter": "python",
   "pygments_lexer": "ipython3",
   "version": "3.9.12"
  }
 },
 "nbformat": 4,
 "nbformat_minor": 5
}
